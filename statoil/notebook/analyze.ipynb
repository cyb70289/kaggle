{
 "cells": [
  {
   "cell_type": "code",
   "execution_count": null,
   "metadata": {
    "collapsed": true,
    "deletable": true,
    "editable": true
   },
   "outputs": [],
   "source": [
    "import os\n",
    "import numpy as np\n",
    "import pandas as pd\n",
    "import matplotlib.pyplot as plt\n",
    "\n",
    "%matplotlib inline"
   ]
  },
  {
   "cell_type": "code",
   "execution_count": null,
   "metadata": {
    "collapsed": true,
    "deletable": true,
    "editable": true
   },
   "outputs": [],
   "source": [
    "data_path = '/home/linux/kaggle/statoil/dataset/'\n",
    "\n",
    "train_file = os.path.join(data_path, 'train.npz')\n",
    "report_file = os.path.join(data_path, 'report.csv')"
   ]
  },
  {
   "cell_type": "code",
   "execution_count": null,
   "metadata": {
    "collapsed": false,
    "deletable": true,
    "editable": true,
    "scrolled": true
   },
   "outputs": [],
   "source": [
    "f = np.load(train_file)\n",
    "df = pd.DataFrame()\n",
    "df['id'] = f['ID']\n",
    "band = f['img']\n",
    "band1_lst = [None]*band.shape[0]\n",
    "band2_lst = [None]*band.shape[0]\n",
    "band1_lst[:] = band[..., 0]\n",
    "band2_lst[:] = band[..., 1]\n",
    "df['band1'] = band1_lst\n",
    "df['band2'] = band2_lst\n",
    "df['is_iceberg'] = f['label']\n",
    "del f"
   ]
  },
  {
   "cell_type": "code",
   "execution_count": null,
   "metadata": {
    "collapsed": false,
    "deletable": true,
    "editable": true,
    "scrolled": false
   },
   "outputs": [],
   "source": [
    "df_report = pd.read_csv(report_file)\n",
    "assert((df_report['is_iceberg']==df['is_iceberg']).all())\n",
    "df['predict'] = df_report['predict']"
   ]
  },
  {
   "cell_type": "code",
   "execution_count": null,
   "metadata": {
    "collapsed": false,
    "deletable": true,
    "editable": true
   },
   "outputs": [],
   "source": [
    "df['gap'] = (df['is_iceberg'] - df['predict']).apply(np.abs)\n",
    "df_iceberg = df[df['is_iceberg'] == 1].sort_values('gap', ascending=False)\n",
    "df_ship = df[df['is_iceberg'] == 0].sort_values('gap', ascending=False)"
   ]
  },
  {
   "cell_type": "code",
   "execution_count": null,
   "metadata": {
    "collapsed": false,
    "deletable": true,
    "editable": true
   },
   "outputs": [],
   "source": [
    "print(df_iceberg['predict'].head().values)\n",
    "print(df_ship['predict'].head().values)"
   ]
  },
  {
   "cell_type": "code",
   "execution_count": null,
   "metadata": {
    "collapsed": false,
    "deletable": true,
    "editable": true
   },
   "outputs": [],
   "source": [
    "def show_imgs(df, title=None):\n",
    "    n = df.shape[0]\n",
    "    h, w, c = 75, 75, 2\n",
    "\n",
    "    band1 = df['band1'].values\n",
    "    band2 = df['band2'].values\n",
    "\n",
    "    buf = np.empty((h*c, w*n))\n",
    "    col = 0\n",
    "    for i in range(n):\n",
    "        buf[:h, col:col+w] = band1[i]\n",
    "        buf[h:2*h, col:col+w] = band2[i]\n",
    "        col += w\n",
    "\n",
    "    _, ax = plt.subplots(figsize=(80,10))\n",
    "    ax.imshow(buf, cmap='gray')\n",
    "    if title:\n",
    "        ax.set_title(title, fontsize=30)"
   ]
  },
  {
   "cell_type": "code",
   "execution_count": null,
   "metadata": {
    "collapsed": false,
    "deletable": true,
    "editable": true
   },
   "outputs": [],
   "source": [
    "show_imgs(df_iceberg.iloc[0:5], 'Iceberg mispredicted as ship')\n",
    "show_imgs(df_iceberg.iloc[5:10], 'Iceberg mispredicted as ship')\n",
    "show_imgs(df_iceberg.iloc[10:15], 'Iceberg mispredicted as ship')\n",
    "show_imgs(df_iceberg.iloc[15:20], 'Iceberg mispredicted as ship')"
   ]
  },
  {
   "cell_type": "code",
   "execution_count": null,
   "metadata": {
    "collapsed": false,
    "deletable": true,
    "editable": true
   },
   "outputs": [],
   "source": [
    "show_imgs(df_iceberg.iloc[-5:], 'Iceberg correctly predicted')\n",
    "show_imgs(df_iceberg.iloc[-10:-5], 'Iceberg correctly predicted')\n",
    "show_imgs(df_iceberg.iloc[-15:-10], 'Iceberg correctly predicted')\n",
    "show_imgs(df_iceberg.iloc[-20:-15], 'Iceberg correctly predicted')"
   ]
  },
  {
   "cell_type": "code",
   "execution_count": null,
   "metadata": {
    "collapsed": false,
    "deletable": true,
    "editable": true
   },
   "outputs": [],
   "source": [
    "show_imgs(df_ship.iloc[0:5], 'Ship mispredicted as iceberg')\n",
    "show_imgs(df_ship.iloc[5:10], 'Ship mispredicted as iceberg')\n",
    "show_imgs(df_ship.iloc[10:15], 'Ship mispredicted as iceberg')\n",
    "show_imgs(df_ship.iloc[15:20], 'Ship mispredicted as iceberg')"
   ]
  },
  {
   "cell_type": "code",
   "execution_count": null,
   "metadata": {
    "collapsed": false,
    "deletable": true,
    "editable": true
   },
   "outputs": [],
   "source": [
    "show_imgs(df_ship.iloc[-5:], 'Ship correctly predicted')\n",
    "show_imgs(df_ship.iloc[-10:-5], 'Ship correctly predicted')\n",
    "show_imgs(df_ship.iloc[-15:-10], 'Ship correctly predicted')\n",
    "show_imgs(df_ship.iloc[-20:-15], 'Ship correctly predicted')"
   ]
  }
 ],
 "metadata": {
  "kernelspec": {
   "display_name": "Python 3",
   "language": "python",
   "name": "python3"
  },
  "language_info": {
   "codemirror_mode": {
    "name": "ipython",
    "version": 3
   },
   "file_extension": ".py",
   "mimetype": "text/x-python",
   "name": "python",
   "nbconvert_exporter": "python",
   "pygments_lexer": "ipython3",
   "version": "3.5.2"
  }
 },
 "nbformat": 4,
 "nbformat_minor": 2
}
