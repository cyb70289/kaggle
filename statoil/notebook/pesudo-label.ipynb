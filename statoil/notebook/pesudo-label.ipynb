{
 "cells": [
  {
   "cell_type": "code",
   "execution_count": null,
   "metadata": {
    "collapsed": true,
    "deletable": true,
    "editable": true
   },
   "outputs": [],
   "source": [
    "import os\n",
    "import numpy as np\n",
    "import pandas as pd\n",
    "import matplotlib.pyplot as plt\n",
    "\n",
    "%matplotlib inline"
   ]
  },
  {
   "cell_type": "code",
   "execution_count": null,
   "metadata": {
    "collapsed": true,
    "deletable": true,
    "editable": true
   },
   "outputs": [],
   "source": [
    "data_path = '/home/linux/kaggle/statoil/dataset/'\n",
    "\n",
    "train_file = os.path.join(data_path, 'train.npz')\n",
    "test_true_file = os.path.join(data_path, 'test-true.npz')\n",
    "pesudo_file = os.path.join(data_path, 'train-pesudo.npz')\n",
    "submit_true_file = os.path.join(data_path, 'submit-true.csv')"
   ]
  },
  {
   "cell_type": "code",
   "execution_count": null,
   "metadata": {
    "collapsed": false,
    "deletable": true,
    "editable": true,
    "scrolled": true
   },
   "outputs": [],
   "source": [
    "f = np.load(test_true_file)\n",
    "df = pd.DataFrame()\n",
    "df['id'] = f['ID']\n",
    "band = f['img']\n",
    "band1_lst = [None]*band.shape[0]\n",
    "band2_lst = [None]*band.shape[0]\n",
    "band1_lst[:] = band[..., 0]\n",
    "band2_lst[:] = band[..., 1]\n",
    "df['band1'] = band1_lst\n",
    "df['band2'] = band2_lst\n",
    "del f"
   ]
  },
  {
   "cell_type": "code",
   "execution_count": null,
   "metadata": {
    "collapsed": false,
    "deletable": true,
    "editable": true
   },
   "outputs": [],
   "source": [
    "df_label = pd.read_csv(submit_true_file)\n",
    "assert((df_label['id'] == df['id']).all())\n",
    "df['is_iceberg'] = df_label['is_iceberg']\n",
    "del df_label"
   ]
  },
  {
   "cell_type": "code",
   "execution_count": null,
   "metadata": {
    "collapsed": false,
    "deletable": true,
    "editable": true
   },
   "outputs": [],
   "source": [
    "plt.hist(df['is_iceberg'], bins=100);"
   ]
  },
  {
   "cell_type": "code",
   "execution_count": null,
   "metadata": {
    "collapsed": false,
    "deletable": true,
    "editable": true
   },
   "outputs": [],
   "source": [
    "# confident samples\n",
    "gap = 0.001\n",
    "df_assume_iceberg = df[df['is_iceberg'] > 1-gap]\n",
    "df_assume_ship = df[df['is_iceberg'] < gap]\n",
    "print(df_assume_iceberg.shape[0], df_assume_ship.shape[0])"
   ]
  },
  {
   "cell_type": "code",
   "execution_count": null,
   "metadata": {
    "collapsed": false,
    "deletable": true,
    "editable": true
   },
   "outputs": [],
   "source": [
    "# samples around decision boundary\n",
    "gap = 0.55\n",
    "df_margin = df[(df['is_iceberg'] < gap) & (df['is_iceberg'] > 1-gap)]\n",
    "print(df_margin.shape[0])"
   ]
  },
  {
   "cell_type": "code",
   "execution_count": null,
   "metadata": {
    "collapsed": false,
    "deletable": true,
    "editable": true
   },
   "outputs": [],
   "source": [
    "# concat pesudo labelled test set to train set\n",
    "id_iceberg = df_assume_iceberg['id']\n",
    "id_ship = df_assume_ship['id']\n",
    "\n",
    "f = np.load(test_true_file)\n",
    "img_iceberg = f['img'][np.isin(f['ID'], id_iceberg)]\n",
    "img_ship = f['img'][np.isin(f['ID'], id_ship)]\n",
    "label_iceberg = np.array([1.0]*len(id_iceberg))\n",
    "label_ship = np.array([0.0]*len(id_ship))\n",
    "\n",
    "f = np.load(train_file)\n",
    "img, label, ID = f['img'], f['label'], f['ID']\n",
    "img = np.concatenate([img, img_iceberg, img_ship])\n",
    "label = np.concatenate([label, label_iceberg, label_ship])\n",
    "ID = np.concatenate([ID, id_iceberg, id_ship])\n",
    "del f\n",
    "\n",
    "np.random.seed(17)\n",
    "idx = np.arange(img.shape[0])\n",
    "np.random.shuffle(idx)\n",
    "img = img[idx].astype(np.float32)\n",
    "label = label[idx].astype(np.float32)\n",
    "ID = ID[idx]\n",
    "np.savez(pesudo_file, img=img, label=label, ID=ID)"
   ]
  },
  {
   "cell_type": "code",
   "execution_count": null,
   "metadata": {
    "collapsed": false,
    "deletable": true,
    "editable": true
   },
   "outputs": [],
   "source": [
    "def show_imgs(df, title=None):\n",
    "    n = df.shape[0]\n",
    "    h, w, c = 75, 75, 2\n",
    "\n",
    "    band1 = df['band1'].values\n",
    "    band2 = df['band2'].values\n",
    "\n",
    "    buf = np.empty((h*c, w*n))\n",
    "    col = 0\n",
    "    for i in range(n):\n",
    "        buf[:h, col:col+w] = band1[i]\n",
    "        buf[h:2*h, col:col+w] = band2[i]\n",
    "        col += w\n",
    "\n",
    "    _, ax = plt.subplots(figsize=(80,10))\n",
    "    ax.imshow(buf, cmap='gray')\n",
    "    if title:\n",
    "        ax.set_title(title, fontsize=30)\n",
    "\n",
    "def show_rand5(df, title=None):\n",
    "    idx = np.random.randint(0, df.shape[0], 5)\n",
    "    print(df.iloc[idx]['is_iceberg'].values)\n",
    "    show_imgs(df.iloc[idx], title)"
   ]
  },
  {
   "cell_type": "code",
   "execution_count": null,
   "metadata": {
    "collapsed": false,
    "deletable": true,
    "editable": true
   },
   "outputs": [],
   "source": [
    "show_rand5(df_assume_iceberg)"
   ]
  },
  {
   "cell_type": "code",
   "execution_count": null,
   "metadata": {
    "collapsed": false,
    "deletable": true,
    "editable": true
   },
   "outputs": [],
   "source": [
    "show_rand5(df_assume_ship)"
   ]
  },
  {
   "cell_type": "code",
   "execution_count": null,
   "metadata": {
    "collapsed": false,
    "deletable": true,
    "editable": true
   },
   "outputs": [],
   "source": [
    "show_rand5(df_margin)"
   ]
  }
 ],
 "metadata": {
  "kernelspec": {
   "display_name": "Python 3",
   "language": "python",
   "name": "python3"
  },
  "language_info": {
   "codemirror_mode": {
    "name": "ipython",
    "version": 3
   },
   "file_extension": ".py",
   "mimetype": "text/x-python",
   "name": "python",
   "nbconvert_exporter": "python",
   "pygments_lexer": "ipython3",
   "version": "3.5.2"
  }
 },
 "nbformat": 4,
 "nbformat_minor": 2
}
