{
 "cells": [
  {
   "cell_type": "code",
   "execution_count": null,
   "metadata": {},
   "outputs": [],
   "source": [
    "import numpy as np\n",
    "import pandas as pd\n",
    "import matplotlib.pyplot as plt\n",
    "\n",
    "%matplotlib inline"
   ]
  },
  {
   "cell_type": "code",
   "execution_count": null,
   "metadata": {},
   "outputs": [],
   "source": [
    "df = pd.read_csv('../dataset/train.csv')"
   ]
  },
  {
   "cell_type": "code",
   "execution_count": null,
   "metadata": {},
   "outputs": [],
   "source": [
    "# length of comment\n",
    "df['comment_len'] = df['comment_text'].apply(len)"
   ]
  },
  {
   "cell_type": "code",
   "execution_count": null,
   "metadata": {},
   "outputs": [],
   "source": [
    "# counting \"!\"\n",
    "df['bang_cnt'] = df['comment_text'].apply(lambda x: min(x.count('!'), 10))\n",
    "ax = df.groupby('bang_cnt')['toxic'].mean().plot();\n",
    "ax.set_ylabel('toxic');"
   ]
  },
  {
   "cell_type": "code",
   "execution_count": null,
   "metadata": {},
   "outputs": [],
   "source": [
    "# ratio of capitalized alpha\n",
    "import re\n",
    "\n",
    "def cap_rate(s):\n",
    "    alpha_cnt = len(re.findall(r'[a-zA-Z]', s))\n",
    "    capital_cnt = len(re.findall(r'[A-Z]', s))\n",
    "    if alpha_cnt == 0:\n",
    "        return 0.0\n",
    "    return (1.0 * capital_cnt) / alpha_cnt\n",
    "\n",
    "df['capital_ratio'] = df['comment_text'].apply(cap_rate)\n",
    "\n",
    "ax = df.groupby(pd.cut(df['capital_ratio'], 10))['toxic'].mean().plot();\n",
    "ax.set_ylabel('toxic');"
   ]
  }
 ],
 "metadata": {
  "kernelspec": {
   "display_name": "Python 3",
   "language": "python",
   "name": "python3"
  },
  "language_info": {
   "codemirror_mode": {
    "name": "ipython",
    "version": 3
   },
   "file_extension": ".py",
   "mimetype": "text/x-python",
   "name": "python",
   "nbconvert_exporter": "python",
   "pygments_lexer": "ipython3",
   "version": "3.5.2"
  }
 },
 "nbformat": 4,
 "nbformat_minor": 2
}
