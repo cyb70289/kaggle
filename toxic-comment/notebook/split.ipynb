{
 "cells": [
  {
   "cell_type": "code",
   "execution_count": null,
   "metadata": {
    "collapsed": true
   },
   "outputs": [],
   "source": [
    "import numpy as np\n",
    "import pandas as pd\n",
    "import matplotlib.pyplot as plt\n",
    "import matplotlib.ticker as ticker\n",
    "\n",
    "%matplotlib inline"
   ]
  },
  {
   "cell_type": "code",
   "execution_count": null,
   "metadata": {
    "collapsed": true
   },
   "outputs": [],
   "source": [
    "seed = 19"
   ]
  },
  {
   "cell_type": "code",
   "execution_count": null,
   "metadata": {},
   "outputs": [],
   "source": [
    "df = pd.read_csv('../dataset/train.csv')\n",
    "df.head()"
   ]
  },
  {
   "cell_type": "code",
   "execution_count": null,
   "metadata": {
    "collapsed": true
   },
   "outputs": [],
   "source": [
    "cols = ['toxic', 'severe_toxic', 'obscene', 'threat', 'insult', 'identity_hate']"
   ]
  },
  {
   "cell_type": "code",
   "execution_count": null,
   "metadata": {},
   "outputs": [],
   "source": [
    "print('total', df.shape[0])\n",
    "print('-----------------')\n",
    "for col in cols:\n",
    "    cnt = df[col].sum()\n",
    "    print(col, cnt, '({:.2f}%)'.format(cnt*100.0/df.shape[0]))"
   ]
  },
  {
   "cell_type": "code",
   "execution_count": null,
   "metadata": {},
   "outputs": [],
   "source": [
    "fig, ax = plt.subplots(1,1)\n",
    "cax = ax.matshow(df[cols].corr())\n",
    "fig.colorbar(cax)\n",
    "\n",
    "ax.set_xticklabels([''] + cols, rotation=90)\n",
    "ax.set_yticklabels([''] + cols)\n",
    "\n",
    "ax.xaxis.set_major_locator(ticker.MultipleLocator(1))\n",
    "ax.yaxis.set_major_locator(ticker.MultipleLocator(1))"
   ]
  },
  {
   "cell_type": "code",
   "execution_count": null,
   "metadata": {},
   "outputs": [],
   "source": [
    "for i, col1 in enumerate(cols):\n",
    "    for j in range(i+1, len(cols)):\n",
    "        col2 = cols[j]\n",
    "        cnt1 = df[col1].sum()\n",
    "        cnt2 = df[col2].sum()\n",
    "        cnt_common = (df[col1] * df[col2]).sum()\n",
    "        e = cnt_common >= min(cnt1, cnt2) * 0.66\n",
    "        print(col1, df[col1].sum(), col2, df[col2].sum(),\n",
    "              'common', cnt_common, '!!!' if e else '')"
   ]
  },
  {
   "cell_type": "code",
   "execution_count": null,
   "metadata": {},
   "outputs": [],
   "source": [
    "cols2 = cols.copy()\n",
    "cols2.remove('toxic')\n",
    "\n",
    "a = df[cols2].sum(1)\n",
    "cnt = ((a > 0) & (df['toxic'] == 0)).sum()\n",
    "print('xxx but not toxic =', cnt)\n",
    "\n",
    "cnt = ((a == 0) & (df['toxic'] > 0)).sum()\n",
    "print('toxic but not xxx =', cnt)"
   ]
  },
  {
   "cell_type": "markdown",
   "metadata": {},
   "source": [
    "### split"
   ]
  },
  {
   "cell_type": "code",
   "execution_count": null,
   "metadata": {
    "collapsed": true
   },
   "outputs": [],
   "source": [
    "# get indcices of all xxx combinations\n",
    "df['xxx'] = 0\n",
    "for col in cols:\n",
    "    df['xxx'] *= 2\n",
    "    df['xxx'] += df[col]\n",
    "\n",
    "# df['xxx'].value_counts()"
   ]
  },
  {
   "cell_type": "code",
   "execution_count": null,
   "metadata": {
    "collapsed": true
   },
   "outputs": [],
   "source": [
    "def get_split_indices(num, split_cnt):\n",
    "    indices = np.arange(num)\n",
    "    np.random.shuffle(indices)\n",
    "    indices_lst = []\n",
    "    if num > split_cnt:\n",
    "        per_len = num // split_cnt\n",
    "    else:\n",
    "        per_len = 1\n",
    "    s = 0\n",
    "    for _ in range(split_cnt-1):\n",
    "        indices_lst.append(indices[s:s+per_len])\n",
    "        s += per_len\n",
    "    indices_lst.append(indices[s:])\n",
    "    return indices_lst\n",
    "\n",
    "def do_split(split_cnt=5):\n",
    "    df_indices = [[] for _ in range(split_cnt)]\n",
    "    for x in range(64):\n",
    "        dfx = df[df['xxx'] == x]\n",
    "        indices_lst = get_split_indices(dfx.shape[0], split_cnt)\n",
    "        for i, indices in enumerate(indices_lst):\n",
    "            df_indices[i] += dfx.index[indices].tolist()\n",
    "    return df_indices"
   ]
  },
  {
   "cell_type": "code",
   "execution_count": null,
   "metadata": {
    "collapsed": true
   },
   "outputs": [],
   "source": [
    "np.random.seed(seed)\n",
    "\n",
    "df_indices = do_split()"
   ]
  },
  {
   "cell_type": "code",
   "execution_count": null,
   "metadata": {},
   "outputs": [],
   "source": [
    "# validate1\n",
    "a = []\n",
    "for i in range(5):\n",
    "    a += df_indices[i]\n",
    "set(a) == set(range(df.shape[0]))"
   ]
  },
  {
   "cell_type": "code",
   "execution_count": null,
   "metadata": {},
   "outputs": [],
   "source": [
    "# validate2\n",
    "for i in range(5):\n",
    "    df1 = df.iloc[df_indices[i]]\n",
    "    print('total', df1.shape[0])\n",
    "    print('-----------------')\n",
    "    for col in cols:\n",
    "        cnt = df1[col].sum()\n",
    "        print(col, cnt, '({:.2f}%)'.format(cnt*100.0/df1.shape[0]))\n",
    "    print('\\n')"
   ]
  },
  {
   "cell_type": "code",
   "execution_count": null,
   "metadata": {
    "collapsed": true
   },
   "outputs": [],
   "source": [
    "np.savez('../dataset/train_split.npz', indices=df_indices)"
   ]
  }
 ],
 "metadata": {
  "kernelspec": {
   "display_name": "Python 3",
   "language": "python",
   "name": "python3"
  },
  "language_info": {
   "codemirror_mode": {
    "name": "ipython",
    "version": 3
   },
   "file_extension": ".py",
   "mimetype": "text/x-python",
   "name": "python",
   "nbconvert_exporter": "python",
   "pygments_lexer": "ipython3",
   "version": "3.5.2"
  }
 },
 "nbformat": 4,
 "nbformat_minor": 2
}
